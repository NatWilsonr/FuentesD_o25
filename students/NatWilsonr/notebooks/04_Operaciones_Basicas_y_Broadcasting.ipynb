{
  "cells": [
    {
      "cell_type": "markdown",
      "metadata": {},
      "source": [
        "<a target=\"_blank\" href=\"https://colab.research.google.com/github/sonder-art/fdd_p25/blob/main/professor/numpy/notebooks/04_Operaciones_Basicas_y_Broadcasting.ipynb\">\n",
        "  <img src=\"https://colab.research.google.com/assets/colab-badge.svg\" alt=\"Open In Colab\"/>\n",
        "</a>\n"
      ]
    },
    {
      "cell_type": "markdown",
      "metadata": {},
      "source": [
        "# 04 — Operaciones básicas y Broadcasting\n",
        "\n",
        "- Aritmética elemento a elemento\n",
        "- Comparaciones\n",
        "- Producto matricial `@`\n",
        "- Broadcasting en operaciones\n",
        "\n"
      ]
    },
    {
      "cell_type": "code",
      "execution_count": null,
      "metadata": {},
      "outputs": [
        {
          "data": {
            "text/plain": [
              "(array([-2,  0,  2,  4]),\n",
              " array([1, 0, 1, 4]),\n",
              " array([1, 2, 3, 4]),\n",
              " array([ 1,  0, -1, -2]))"
            ]
          },
          "execution_count": 1,
          "metadata": {},
          "output_type": "execute_result"
        }
      ],
      "source": [
        "import numpy as np\n",
        "\n",
        "x = np.array([-1,0,1,2])\n",
        "(x*2, x**2, x+2, -x)\n",
        "#una lista no sabe que trae, pero numpy si lo sabe \n"
      ]
    },
    {
      "cell_type": "code",
      "execution_count": null,
      "metadata": {},
      "outputs": [
        {
          "data": {
            "text/plain": [
              "(array([0, 3, 4]),)"
            ]
          },
          "execution_count": 2,
          "metadata": {},
          "output_type": "execute_result"
        }
      ],
      "source": [
        "# Comparaciones y where\n",
        "a = np.array([1,2,3,4,5])\n",
        "b = np.array([1,3,2,4,5])\n",
        "np.where(a == b)\n",
        "#a == b \n",
        "# donde los valores de a son iguales a los de b en la misma posición <- nos regresa una mask \n"
      ]
    },
    {
      "cell_type": "code",
      "execution_count": null,
      "metadata": {},
      "outputs": [],
      "source": [
        "# Producto matricial\n",
        "A = np.array([[1,2,3],[4,5,6],[7,8,9]])\n",
        "B = np.array([[2,3,4],[5,6,7],[8,9,10]])\n",
        "A @ B #esto es lo que hace la multiplicación matricial (renglón por columna)\n"
      ]
    },
    {
      "cell_type": "code",
      "execution_count": null,
      "metadata": {},
      "outputs": [
        {
          "data": {
            "text/plain": [
              "array([[1., 2., 3.],\n",
              "       [1., 2., 3.],\n",
              "       [1., 2., 3.]])"
            ]
          },
          "execution_count": 7,
          "metadata": {},
          "output_type": "execute_result"
        }
      ],
      "source": [
        "# Broadcasting\n",
        "#solo funciona si la primera dimensión cuadra, sino truena \n",
        "\n",
        "v = np.arange(3) #del 0 al 2\n",
        "M = np.ones((3,3)) #matriz de 3x3\n",
        "M + v #Dimensión -> (3, nada)\n"
      ]
    }
  ],
  "metadata": {
    "kernelspec": {
      "display_name": ".venv",
      "language": "python",
      "name": "python3"
    },
    "language_info": {
      "codemirror_mode": {
        "name": "ipython",
        "version": 3
      },
      "file_extension": ".py",
      "mimetype": "text/x-python",
      "name": "python",
      "nbconvert_exporter": "python",
      "pygments_lexer": "ipython3",
      "version": "3.12.3"
    }
  },
  "nbformat": 4,
  "nbformat_minor": 2
}
